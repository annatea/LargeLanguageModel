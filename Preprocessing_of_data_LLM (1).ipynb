{
  "cells": [
    {
      "cell_type": "markdown",
      "metadata": {
        "id": "lqWZRNqL8xeq"
      },
      "source": [
        "Preprocessing of data"
      ]
    },
    {
      "cell_type": "code",
      "source": [
        "import pandas as pd\n",
        "import numpy as np\n",
        "import os\n",
        "import re\n",
        "import nltk\n",
        "\n",
        "from glob import glob\n",
        "from nltk.corpus import stopwords\n",
        "from nltk.tokenize import word_tokenize\n",
        "nltk.download('stopwords')\n",
        "nltk.download('punkt')"
      ],
      "metadata": {
        "colab": {
          "base_uri": "https://localhost:8080/"
        },
        "id": "WtW7qb7LejJq",
        "outputId": "8d39dfdc-726d-4d24-d779-dbbf587fe89b"
      },
      "execution_count": 1,
      "outputs": [
        {
          "output_type": "stream",
          "name": "stderr",
          "text": [
            "[nltk_data] Downloading package stopwords to /root/nltk_data...\n",
            "[nltk_data]   Unzipping corpora/stopwords.zip.\n",
            "[nltk_data] Downloading package punkt to /root/nltk_data...\n",
            "[nltk_data]   Unzipping tokenizers/punkt.zip.\n"
          ]
        },
        {
          "output_type": "execute_result",
          "data": {
            "text/plain": [
              "True"
            ]
          },
          "metadata": {},
          "execution_count": 1
        }
      ]
    },
    {
      "cell_type": "code",
      "source": [
        "from google.colab import drive\n",
        "drive.mount('/content/drive')"
      ],
      "metadata": {
        "colab": {
          "base_uri": "https://localhost:8080/"
        },
        "id": "p9naUYfS0VKI",
        "outputId": "ee99b08e-cf36-4016-840e-0c53b80a2e2b"
      },
      "execution_count": 2,
      "outputs": [
        {
          "output_type": "stream",
          "name": "stdout",
          "text": [
            "Mounted at /content/drive\n"
          ]
        }
      ]
    },
    {
      "cell_type": "code",
      "source": [
        "df = pd.read_csv('/content/drive/MyDrive/output.csv')"
      ],
      "metadata": {
        "id": "ogFpTvIQ0fnT"
      },
      "execution_count": 8,
      "outputs": []
    },
    {
      "cell_type": "code",
      "source": [
        "df.info()"
      ],
      "metadata": {
        "colab": {
          "base_uri": "https://localhost:8080/"
        },
        "id": "t53nRv6geYUt",
        "outputId": "bab60f92-9946-4f71-c17e-5d9a414463cc"
      },
      "execution_count": 9,
      "outputs": [
        {
          "output_type": "stream",
          "name": "stdout",
          "text": [
            "<class 'pandas.core.frame.DataFrame'>\n",
            "RangeIndex: 45194 entries, 0 to 45193\n",
            "Data columns (total 22 columns):\n",
            " #   Column                  Non-Null Count  Dtype  \n",
            "---  ------                  --------------  -----  \n",
            " 0   Unnamed: 0              45194 non-null  int64  \n",
            " 1   id                      45194 non-null  int64  \n",
            " 2   created_at              45194 non-null  object \n",
            " 3   entities                45192 non-null  object \n",
            " 4   referenced_tweets       41352 non-null  object \n",
            " 5   possibly_sensitive      45194 non-null  bool   \n",
            " 6   public_metrics          45194 non-null  object \n",
            " 7   author_id               45194 non-null  int64  \n",
            " 8   context_annotations     44793 non-null  object \n",
            " 9   edit_controls           45194 non-null  object \n",
            " 10  conversation_id         45194 non-null  int64  \n",
            " 11  edit_history_tweet_ids  45194 non-null  object \n",
            " 12  lang                    45194 non-null  object \n",
            " 13  reply_settings          45194 non-null  object \n",
            " 14  text                    45194 non-null  object \n",
            " 15  author                  45194 non-null  object \n",
            " 16  __twarc                 45194 non-null  object \n",
            " 17  attachments             4712 non-null   object \n",
            " 18  in_reply_to_user_id     338 non-null    float64\n",
            " 19  in_reply_to_user        338 non-null    object \n",
            " 20  geo                     44 non-null     object \n",
            " 21  withheld                8 non-null      object \n",
            "dtypes: bool(1), float64(1), int64(4), object(16)\n",
            "memory usage: 7.3+ MB\n"
          ]
        }
      ]
    },
    {
      "cell_type": "code",
      "source": [
        "df['text'][35]"
      ],
      "metadata": {
        "colab": {
          "base_uri": "https://localhost:8080/",
          "height": 35
        },
        "id": "NzfTAJlSeX0f",
        "outputId": "c9e5cbde-9b2d-4500-b7f2-7a6f5c08a92a"
      },
      "execution_count": 10,
      "outputs": [
        {
          "output_type": "execute_result",
          "data": {
            "text/plain": [
              "'RT @AnnyeongOnglee: [ONGLEE SCHEDULE] 01 MAY 2023\\n\\nMarvel Studios’ Guardians of the Galaxy \\nVol.3 Thailand Gala Premiere\\n\\n⏰ งานเริ่ม 18.00…'"
            ],
            "application/vnd.google.colaboratory.intrinsic+json": {
              "type": "string"
            }
          },
          "metadata": {},
          "execution_count": 10
        }
      ]
    },
    {
      "cell_type": "code",
      "source": [
        "# Remove URLs, user mentions, non-alphanumeric characters and hashtags from the tweets\n",
        "df['text'] = df['text'].apply(lambda x: re.sub(r'#\\S+', '', str(x))) # remove hashtags\n",
        "df['text'] = df['text'].apply(lambda x: re.sub(r'[^a-zA-Z0-9\\s]', '', str(x))) # remove non-alphanumeric characters\n",
        "df['text'] = df['text'].apply(lambda x: re.sub(r'http\\S+', '', str(x))) # remove URLs\n",
        "df['text'] = df['text'].apply(lambda x: re.sub(r'@\\S+', '', str(x))) # remove user mentions"
      ],
      "metadata": {
        "id": "MbppEw9veUvU"
      },
      "execution_count": 11,
      "outputs": []
    },
    {
      "cell_type": "code",
      "source": [
        "df['text'][35]"
      ],
      "metadata": {
        "colab": {
          "base_uri": "https://localhost:8080/",
          "height": 35
        },
        "id": "6wdwCEdD3jgR",
        "outputId": "d13e5ee7-f681-4015-8c5c-4fd381018fee"
      },
      "execution_count": 12,
      "outputs": [
        {
          "output_type": "execute_result",
          "data": {
            "text/plain": [
              "'RT AnnyeongOnglee ONGLEE SCHEDULE 01 MAY 2023\\n\\nMarvel Studios Guardians of the Galaxy \\nVol3 Thailand Gala Premiere\\n\\n  1800'"
            ],
            "application/vnd.google.colaboratory.intrinsic+json": {
              "type": "string"
            }
          },
          "metadata": {},
          "execution_count": 12
        }
      ]
    },
    {
      "cell_type": "code",
      "source": [
        "# Remove punctuation and convert text to lowercase\n",
        "df['text'] = df['text'].apply(lambda x: re.sub('[^\\w\\s]', '', x))\n",
        "df['text'] = df['text'].apply(lambda x: x.lower())"
      ],
      "metadata": {
        "id": "N3_UVLHzeqU5"
      },
      "execution_count": 13,
      "outputs": []
    },
    {
      "cell_type": "code",
      "source": [
        "df['text'][35]"
      ],
      "metadata": {
        "colab": {
          "base_uri": "https://localhost:8080/",
          "height": 35
        },
        "id": "5xjAOhYMeqMK",
        "outputId": "58b777de-1ff2-4d6a-c75b-8ba1591c3273"
      },
      "execution_count": 14,
      "outputs": [
        {
          "output_type": "execute_result",
          "data": {
            "text/plain": [
              "'rt annyeongonglee onglee schedule 01 may 2023\\n\\nmarvel studios guardians of the galaxy \\nvol3 thailand gala premiere\\n\\n  1800'"
            ],
            "application/vnd.google.colaboratory.intrinsic+json": {
              "type": "string"
            }
          },
          "metadata": {},
          "execution_count": 14
        }
      ]
    },
    {
      "cell_type": "code",
      "source": [
        "stop_words = set(stopwords.words('english'))\n",
        "df['text'] = df['text'].apply(lambda x: ' '.join([word for word in x.split() if word not in stop_words]))"
      ],
      "metadata": {
        "id": "wXFCgtiRe50y"
      },
      "execution_count": 15,
      "outputs": []
    },
    {
      "cell_type": "code",
      "source": [
        "df['text'][35]"
      ],
      "metadata": {
        "colab": {
          "base_uri": "https://localhost:8080/",
          "height": 35
        },
        "id": "icYfb9sze5tH",
        "outputId": "cad87bad-8854-4b80-bc34-cd0658d2d0ba"
      },
      "execution_count": 16,
      "outputs": [
        {
          "output_type": "execute_result",
          "data": {
            "text/plain": [
              "'rt annyeongonglee onglee schedule 01 may 2023 marvel studios guardians galaxy vol3 thailand gala premiere 1800'"
            ],
            "application/vnd.google.colaboratory.intrinsic+json": {
              "type": "string"
            }
          },
          "metadata": {},
          "execution_count": 16
        }
      ]
    },
    {
      "cell_type": "code",
      "source": [
        "# Remove any remaining white space\n",
        "df['text'] = df['text'].apply(lambda x: x.strip())"
      ],
      "metadata": {
        "id": "tWDg854Te8qv"
      },
      "execution_count": 17,
      "outputs": []
    },
    {
      "cell_type": "code",
      "source": [
        "df['text'][35]"
      ],
      "metadata": {
        "colab": {
          "base_uri": "https://localhost:8080/",
          "height": 35
        },
        "id": "cyz2MYts3oum",
        "outputId": "9fc767b5-0050-47d1-b484-d92f1ca172e6"
      },
      "execution_count": 19,
      "outputs": [
        {
          "output_type": "execute_result",
          "data": {
            "text/plain": [
              "'rt annyeongonglee onglee schedule 01 may 2023 marvel studios guardians galaxy vol3 thailand gala premiere 1800'"
            ],
            "application/vnd.google.colaboratory.intrinsic+json": {
              "type": "string"
            }
          },
          "metadata": {},
          "execution_count": 19
        }
      ]
    },
    {
      "cell_type": "code",
      "source": [
        "df.insert(loc=6, column='text_tokens', value=df['text'].apply(lambda x: word_tokenize(x)))\n"
      ],
      "metadata": {
        "id": "xuKkFiJgfzR-"
      },
      "execution_count": 18,
      "outputs": []
    },
    {
      "cell_type": "code",
      "source": [
        "df['text'][33], df['text_tokens'][33]\n"
      ],
      "metadata": {
        "colab": {
          "base_uri": "https://localhost:8080/"
        },
        "id": "vgJc-JtnfzGL",
        "outputId": "5faa7e3e-b9df-4069-dcbc-546912cb2b3f"
      },
      "execution_count": 20,
      "outputs": [
        {
          "output_type": "execute_result",
          "data": {
            "text/plain": [
              "('rt marvelstudios experience guardians galaxy vol 3 theaters may 5 get tickets http',\n",
              " ['rt',\n",
              "  'marvelstudios',\n",
              "  'experience',\n",
              "  'guardians',\n",
              "  'galaxy',\n",
              "  'vol',\n",
              "  '3',\n",
              "  'theaters',\n",
              "  'may',\n",
              "  '5',\n",
              "  'get',\n",
              "  'tickets',\n",
              "  'http'])"
            ]
          },
          "metadata": {},
          "execution_count": 20
        }
      ]
    },
    {
      "cell_type": "code",
      "source": [
        "df.head(3)\n"
      ],
      "metadata": {
        "colab": {
          "base_uri": "https://localhost:8080/",
          "height": 480
        },
        "id": "VN6I2FXwf6xH",
        "outputId": "552742bf-5267-4601-cd5f-45af346af77c"
      },
      "execution_count": 21,
      "outputs": [
        {
          "output_type": "execute_result",
          "data": {
            "text/plain": [
              "   Unnamed: 0                   id                 created_at  \\\n",
              "0           0  1652915575360987136  2023-05-01 05:59:17+00:00   \n",
              "1           1  1652915467718373376  2023-05-01 05:58:51+00:00   \n",
              "2           2  1652915360587186176  2023-05-01 05:58:26+00:00   \n",
              "\n",
              "                                            entities  \\\n",
              "0  {'annotations': [{'start': 48, 'end': 56, 'pro...   \n",
              "1  {'annotations': [{'start': 36, 'end': 44, 'pro...   \n",
              "2  {'annotations': [{'start': 37, 'end': 65, 'pro...   \n",
              "\n",
              "                                   referenced_tweets  possibly_sensitive  \\\n",
              "0  [{'type': 'retweeted', 'id': '1652870466284183...               False   \n",
              "1  [{'type': 'retweeted', 'id': '1652711911857745...               False   \n",
              "2  [{'type': 'retweeted', 'id': '1652033181942423...               False   \n",
              "\n",
              "                                         text_tokens  \\\n",
              "0  [rt, marvelffightus, rush, check, guardians, c...   \n",
              "1  [rt, marvelstudios, friday, guardians, back, e...   \n",
              "2  [rt, discussingfilm, new, clip, guardians, gal...   \n",
              "\n",
              "                                      public_metrics            author_id  \\\n",
              "0  {'retweet_count': 143, 'reply_count': 0, 'like...  1573278611897196544   \n",
              "1  {'retweet_count': 454, 'reply_count': 0, 'like...  1372656867004928000   \n",
              "2  {'retweet_count': 970, 'reply_count': 0, 'like...  1552644578850783232   \n",
              "\n",
              "                                 context_annotations  ... lang  \\\n",
              "0  [{'domain': {'id': '46', 'name': 'Business Tax...  ...   en   \n",
              "1  [{'domain': {'id': '46', 'name': 'Business Tax...  ...   en   \n",
              "2  [{'domain': {'id': '46', 'name': 'Business Tax...  ...   en   \n",
              "\n",
              "   reply_settings                                               text  \\\n",
              "0        everyone  rt marvelffightus rush check guardians come ba...   \n",
              "1        everyone  rt marvelstudios friday guardians back experie...   \n",
              "2        everyone  rt discussingfilm new clip guardians galaxy vo...   \n",
              "\n",
              "                                              author  \\\n",
              "0  {'protected': False, 'profile_image_url': 'htt...   \n",
              "1  {'protected': False, 'profile_image_url': 'htt...   \n",
              "2  {'protected': False, 'profile_image_url': 'htt...   \n",
              "\n",
              "                                             __twarc attachments  \\\n",
              "0  {'url': 'https://api.twitter.com/2/tweets/sear...         NaN   \n",
              "1  {'url': 'https://api.twitter.com/2/tweets/sear...         NaN   \n",
              "2  {'url': 'https://api.twitter.com/2/tweets/sear...         NaN   \n",
              "\n",
              "  in_reply_to_user_id in_reply_to_user  geo  withheld  \n",
              "0                 NaN              NaN  NaN       NaN  \n",
              "1                 NaN              NaN  NaN       NaN  \n",
              "2                 NaN              NaN  NaN       NaN  \n",
              "\n",
              "[3 rows x 23 columns]"
            ],
            "text/html": [
              "\n",
              "  <div id=\"df-684a4ff1-d7d7-4685-8196-5a46fd5c1fa2\">\n",
              "    <div class=\"colab-df-container\">\n",
              "      <div>\n",
              "<style scoped>\n",
              "    .dataframe tbody tr th:only-of-type {\n",
              "        vertical-align: middle;\n",
              "    }\n",
              "\n",
              "    .dataframe tbody tr th {\n",
              "        vertical-align: top;\n",
              "    }\n",
              "\n",
              "    .dataframe thead th {\n",
              "        text-align: right;\n",
              "    }\n",
              "</style>\n",
              "<table border=\"1\" class=\"dataframe\">\n",
              "  <thead>\n",
              "    <tr style=\"text-align: right;\">\n",
              "      <th></th>\n",
              "      <th>Unnamed: 0</th>\n",
              "      <th>id</th>\n",
              "      <th>created_at</th>\n",
              "      <th>entities</th>\n",
              "      <th>referenced_tweets</th>\n",
              "      <th>possibly_sensitive</th>\n",
              "      <th>text_tokens</th>\n",
              "      <th>public_metrics</th>\n",
              "      <th>author_id</th>\n",
              "      <th>context_annotations</th>\n",
              "      <th>...</th>\n",
              "      <th>lang</th>\n",
              "      <th>reply_settings</th>\n",
              "      <th>text</th>\n",
              "      <th>author</th>\n",
              "      <th>__twarc</th>\n",
              "      <th>attachments</th>\n",
              "      <th>in_reply_to_user_id</th>\n",
              "      <th>in_reply_to_user</th>\n",
              "      <th>geo</th>\n",
              "      <th>withheld</th>\n",
              "    </tr>\n",
              "  </thead>\n",
              "  <tbody>\n",
              "    <tr>\n",
              "      <th>0</th>\n",
              "      <td>0</td>\n",
              "      <td>1652915575360987136</td>\n",
              "      <td>2023-05-01 05:59:17+00:00</td>\n",
              "      <td>{'annotations': [{'start': 48, 'end': 56, 'pro...</td>\n",
              "      <td>[{'type': 'retweeted', 'id': '1652870466284183...</td>\n",
              "      <td>False</td>\n",
              "      <td>[rt, marvelffightus, rush, check, guardians, c...</td>\n",
              "      <td>{'retweet_count': 143, 'reply_count': 0, 'like...</td>\n",
              "      <td>1573278611897196544</td>\n",
              "      <td>[{'domain': {'id': '46', 'name': 'Business Tax...</td>\n",
              "      <td>...</td>\n",
              "      <td>en</td>\n",
              "      <td>everyone</td>\n",
              "      <td>rt marvelffightus rush check guardians come ba...</td>\n",
              "      <td>{'protected': False, 'profile_image_url': 'htt...</td>\n",
              "      <td>{'url': 'https://api.twitter.com/2/tweets/sear...</td>\n",
              "      <td>NaN</td>\n",
              "      <td>NaN</td>\n",
              "      <td>NaN</td>\n",
              "      <td>NaN</td>\n",
              "      <td>NaN</td>\n",
              "    </tr>\n",
              "    <tr>\n",
              "      <th>1</th>\n",
              "      <td>1</td>\n",
              "      <td>1652915467718373376</td>\n",
              "      <td>2023-05-01 05:58:51+00:00</td>\n",
              "      <td>{'annotations': [{'start': 36, 'end': 44, 'pro...</td>\n",
              "      <td>[{'type': 'retweeted', 'id': '1652711911857745...</td>\n",
              "      <td>False</td>\n",
              "      <td>[rt, marvelstudios, friday, guardians, back, e...</td>\n",
              "      <td>{'retweet_count': 454, 'reply_count': 0, 'like...</td>\n",
              "      <td>1372656867004928000</td>\n",
              "      <td>[{'domain': {'id': '46', 'name': 'Business Tax...</td>\n",
              "      <td>...</td>\n",
              "      <td>en</td>\n",
              "      <td>everyone</td>\n",
              "      <td>rt marvelstudios friday guardians back experie...</td>\n",
              "      <td>{'protected': False, 'profile_image_url': 'htt...</td>\n",
              "      <td>{'url': 'https://api.twitter.com/2/tweets/sear...</td>\n",
              "      <td>NaN</td>\n",
              "      <td>NaN</td>\n",
              "      <td>NaN</td>\n",
              "      <td>NaN</td>\n",
              "      <td>NaN</td>\n",
              "    </tr>\n",
              "    <tr>\n",
              "      <th>2</th>\n",
              "      <td>2</td>\n",
              "      <td>1652915360587186176</td>\n",
              "      <td>2023-05-01 05:58:26+00:00</td>\n",
              "      <td>{'annotations': [{'start': 37, 'end': 65, 'pro...</td>\n",
              "      <td>[{'type': 'retweeted', 'id': '1652033181942423...</td>\n",
              "      <td>False</td>\n",
              "      <td>[rt, discussingfilm, new, clip, guardians, gal...</td>\n",
              "      <td>{'retweet_count': 970, 'reply_count': 0, 'like...</td>\n",
              "      <td>1552644578850783232</td>\n",
              "      <td>[{'domain': {'id': '46', 'name': 'Business Tax...</td>\n",
              "      <td>...</td>\n",
              "      <td>en</td>\n",
              "      <td>everyone</td>\n",
              "      <td>rt discussingfilm new clip guardians galaxy vo...</td>\n",
              "      <td>{'protected': False, 'profile_image_url': 'htt...</td>\n",
              "      <td>{'url': 'https://api.twitter.com/2/tweets/sear...</td>\n",
              "      <td>NaN</td>\n",
              "      <td>NaN</td>\n",
              "      <td>NaN</td>\n",
              "      <td>NaN</td>\n",
              "      <td>NaN</td>\n",
              "    </tr>\n",
              "  </tbody>\n",
              "</table>\n",
              "<p>3 rows × 23 columns</p>\n",
              "</div>\n",
              "      <button class=\"colab-df-convert\" onclick=\"convertToInteractive('df-684a4ff1-d7d7-4685-8196-5a46fd5c1fa2')\"\n",
              "              title=\"Convert this dataframe to an interactive table.\"\n",
              "              style=\"display:none;\">\n",
              "        \n",
              "  <svg xmlns=\"http://www.w3.org/2000/svg\" height=\"24px\"viewBox=\"0 0 24 24\"\n",
              "       width=\"24px\">\n",
              "    <path d=\"M0 0h24v24H0V0z\" fill=\"none\"/>\n",
              "    <path d=\"M18.56 5.44l.94 2.06.94-2.06 2.06-.94-2.06-.94-.94-2.06-.94 2.06-2.06.94zm-11 1L8.5 8.5l.94-2.06 2.06-.94-2.06-.94L8.5 2.5l-.94 2.06-2.06.94zm10 10l.94 2.06.94-2.06 2.06-.94-2.06-.94-.94-2.06-.94 2.06-2.06.94z\"/><path d=\"M17.41 7.96l-1.37-1.37c-.4-.4-.92-.59-1.43-.59-.52 0-1.04.2-1.43.59L10.3 9.45l-7.72 7.72c-.78.78-.78 2.05 0 2.83L4 21.41c.39.39.9.59 1.41.59.51 0 1.02-.2 1.41-.59l7.78-7.78 2.81-2.81c.8-.78.8-2.07 0-2.86zM5.41 20L4 18.59l7.72-7.72 1.47 1.35L5.41 20z\"/>\n",
              "  </svg>\n",
              "      </button>\n",
              "      \n",
              "  <style>\n",
              "    .colab-df-container {\n",
              "      display:flex;\n",
              "      flex-wrap:wrap;\n",
              "      gap: 12px;\n",
              "    }\n",
              "\n",
              "    .colab-df-convert {\n",
              "      background-color: #E8F0FE;\n",
              "      border: none;\n",
              "      border-radius: 50%;\n",
              "      cursor: pointer;\n",
              "      display: none;\n",
              "      fill: #1967D2;\n",
              "      height: 32px;\n",
              "      padding: 0 0 0 0;\n",
              "      width: 32px;\n",
              "    }\n",
              "\n",
              "    .colab-df-convert:hover {\n",
              "      background-color: #E2EBFA;\n",
              "      box-shadow: 0px 1px 2px rgba(60, 64, 67, 0.3), 0px 1px 3px 1px rgba(60, 64, 67, 0.15);\n",
              "      fill: #174EA6;\n",
              "    }\n",
              "\n",
              "    [theme=dark] .colab-df-convert {\n",
              "      background-color: #3B4455;\n",
              "      fill: #D2E3FC;\n",
              "    }\n",
              "\n",
              "    [theme=dark] .colab-df-convert:hover {\n",
              "      background-color: #434B5C;\n",
              "      box-shadow: 0px 1px 3px 1px rgba(0, 0, 0, 0.15);\n",
              "      filter: drop-shadow(0px 1px 2px rgba(0, 0, 0, 0.3));\n",
              "      fill: #FFFFFF;\n",
              "    }\n",
              "  </style>\n",
              "\n",
              "      <script>\n",
              "        const buttonEl =\n",
              "          document.querySelector('#df-684a4ff1-d7d7-4685-8196-5a46fd5c1fa2 button.colab-df-convert');\n",
              "        buttonEl.style.display =\n",
              "          google.colab.kernel.accessAllowed ? 'block' : 'none';\n",
              "\n",
              "        async function convertToInteractive(key) {\n",
              "          const element = document.querySelector('#df-684a4ff1-d7d7-4685-8196-5a46fd5c1fa2');\n",
              "          const dataTable =\n",
              "            await google.colab.kernel.invokeFunction('convertToInteractive',\n",
              "                                                     [key], {});\n",
              "          if (!dataTable) return;\n",
              "\n",
              "          const docLinkHtml = 'Like what you see? Visit the ' +\n",
              "            '<a target=\"_blank\" href=https://colab.research.google.com/notebooks/data_table.ipynb>data table notebook</a>'\n",
              "            + ' to learn more about interactive tables.';\n",
              "          element.innerHTML = '';\n",
              "          dataTable['output_type'] = 'display_data';\n",
              "          await google.colab.output.renderOutput(dataTable, element);\n",
              "          const docLink = document.createElement('div');\n",
              "          docLink.innerHTML = docLinkHtml;\n",
              "          element.appendChild(docLink);\n",
              "        }\n",
              "      </script>\n",
              "    </div>\n",
              "  </div>\n",
              "  "
            ]
          },
          "metadata": {},
          "execution_count": 21
        }
      ]
    },
    {
      "cell_type": "code",
      "source": [
        "# Save the preprocessed data to a new file\n",
        "output_filename = 'preprocessed__data'\n",
        "df.to_csv(os.path.join(data_path, f'{output_filename}.csv'), index=False)"
      ],
      "metadata": {
        "id": "YrJGZEBC6hkq"
      },
      "execution_count": null,
      "outputs": []
    },
    {
      "cell_type": "code",
      "source": [
        "# Load the Twitter data\n",
        "processed = pd.read_csv('/content/drive/MyDrive/preprocessed_data.csv')"
      ],
      "metadata": {
        "id": "Xby53TJfghSI"
      },
      "execution_count": 23,
      "outputs": []
    },
    {
      "cell_type": "code",
      "source": [],
      "metadata": {
        "id": "CD1ENEOKiaYy"
      },
      "execution_count": null,
      "outputs": []
    }
  ],
  "metadata": {
    "colab": {
      "provenance": []
    },
    "kernelspec": {
      "display_name": "Python 3",
      "name": "python3"
    }
  },
  "nbformat": 4,
  "nbformat_minor": 0
}