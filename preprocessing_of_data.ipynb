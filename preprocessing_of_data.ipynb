{
  "cells": [
    {
      "cell_type": "code",
      "execution_count": null,
      "id": "2cd3e0cc",
      "metadata": {
        "id": "2cd3e0cc",
        "outputId": "898b3dae-cfca-49bb-8124-269da6f080d0"
      },
      "outputs": [
        {
          "name": "stderr",
          "output_type": "stream",
          "text": [
            "[nltk_data] Downloading package stopwords to /home/maria/nltk_data...\n",
            "[nltk_data]   Package stopwords is already up-to-date!\n",
            "[nltk_data] Downloading package punkt to /home/maria/nltk_data...\n",
            "[nltk_data]   Package punkt is already up-to-date!\n"
          ]
        },
        {
          "data": {
            "text/plain": [
              "True"
            ]
          },
          "execution_count": 1,
          "metadata": {},
          "output_type": "execute_result"
        }
      ],
      "source": [
        "import pandas as pd\n",
        "import numpy as np\n",
        "import os\n",
        "import re\n",
        "import nltk\n",
        "\n",
        "from glob import glob\n",
        "from nltk.corpus import stopwords\n",
        "from nltk.tokenize import word_tokenize\n",
        "nltk.download('stopwords')\n",
        "nltk.download('punkt')"
      ]
    },
    {
      "cell_type": "code",
      "execution_count": null,
      "id": "104e36ab",
      "metadata": {
        "id": "104e36ab"
      },
      "outputs": [],
      "source": [
        "data_path = '../Data'\n",
        "twitter_data_path = glob(os.path.join(data_path, 'twitter_data_22_to_29_03_2023.csv'))[0]"
      ]
    },
    {
      "cell_type": "code",
      "execution_count": null,
      "id": "e9b949aa",
      "metadata": {
        "id": "e9b949aa",
        "outputId": "e22d8dca-e322-470d-cf00-bbc4547476b6"
      },
      "outputs": [
        {
          "data": {
            "text/plain": [
              "'../Data/twitter_data_22_to_29_03_2023.csv'"
            ]
          },
          "execution_count": 3,
          "metadata": {},
          "output_type": "execute_result"
        }
      ],
      "source": [
        "twitter_data_path"
      ]
    },
    {
      "cell_type": "code",
      "execution_count": null,
      "id": "bfff5a4d",
      "metadata": {
        "id": "bfff5a4d",
        "outputId": "ea4fb426-0ca0-443d-af5f-695d44cbf6e4"
      },
      "outputs": [
        {
          "name": "stderr",
          "output_type": "stream",
          "text": [
            "/usr/lib/python3/dist-packages/IPython/core/interactiveshell.py:3457: DtypeWarning: Columns (0,5,8,13) have mixed types.Specify dtype option on import or set low_memory=False.\n",
            "  exec(code_obj, self.user_global_ns, self.user_ns)\n"
          ]
        }
      ],
      "source": [
        "# Load the Twitter data\n",
        "data = pd.read_csv(twitter_data_path)\n",
        "data.drop('Unnamed: 0', axis=1, inplace=True)\n",
        "data.drop_duplicates(inplace=True)"
      ]
    },
    {
      "cell_type": "code",
      "execution_count": null,
      "id": "04637214",
      "metadata": {
        "id": "04637214",
        "outputId": "1c7f954c-5729-4144-eced-94bd06d84a13"
      },
      "outputs": [
        {
          "name": "stdout",
          "output_type": "stream",
          "text": [
            "<class 'pandas.core.frame.DataFrame'>\n",
            "Int64Index: 130694 entries, 0 to 130693\n",
            "Data columns (total 21 columns):\n",
            " #   Column                  Non-Null Count   Dtype  \n",
            "---  ------                  --------------   -----  \n",
            " 0   public_metrics          130693 non-null  object \n",
            " 1   entities                130171 non-null  object \n",
            " 2   edit_history_tweet_ids  130693 non-null  object \n",
            " 3   referenced_tweets       108749 non-null  object \n",
            " 4   conversation_id         130693 non-null  object \n",
            " 5   text                    130693 non-null  object \n",
            " 6   author_id               130692 non-null  float64\n",
            " 7   possibly_sensitive      130692 non-null  object \n",
            " 8   lang                    130692 non-null  object \n",
            " 9   created_at              130691 non-null  object \n",
            " 10  edit_controls           130691 non-null  object \n",
            " 11  reply_settings          130691 non-null  object \n",
            " 12  id                      130692 non-null  object \n",
            " 13  author                  130691 non-null  object \n",
            " 14  __twarc                 130691 non-null  object \n",
            " 15  context_annotations     68329 non-null   object \n",
            " 16  in_reply_to_user_id     19324 non-null   float64\n",
            " 17  in_reply_to_user        19324 non-null   object \n",
            " 18  attachments             17169 non-null   object \n",
            " 19  geo                     485 non-null     object \n",
            " 20  withheld                165 non-null     object \n",
            "dtypes: float64(2), object(19)\n",
            "memory usage: 21.9+ MB\n"
          ]
        }
      ],
      "source": [
        "data.info()"
      ]
    },
    {
      "cell_type": "code",
      "execution_count": null,
      "id": "9db82301",
      "metadata": {
        "id": "9db82301",
        "outputId": "2afe8286-3808-49a9-ed79-a0a019d1786c"
      },
      "outputs": [
        {
          "data": {
            "text/html": [
              "<div>\n",
              "<style scoped>\n",
              "    .dataframe tbody tr th:only-of-type {\n",
              "        vertical-align: middle;\n",
              "    }\n",
              "\n",
              "    .dataframe tbody tr th {\n",
              "        vertical-align: top;\n",
              "    }\n",
              "\n",
              "    .dataframe thead th {\n",
              "        text-align: right;\n",
              "    }\n",
              "</style>\n",
              "<table border=\"1\" class=\"dataframe\">\n",
              "  <thead>\n",
              "    <tr style=\"text-align: right;\">\n",
              "      <th></th>\n",
              "      <th>public_metrics</th>\n",
              "      <th>entities</th>\n",
              "      <th>edit_history_tweet_ids</th>\n",
              "      <th>referenced_tweets</th>\n",
              "      <th>conversation_id</th>\n",
              "      <th>text</th>\n",
              "      <th>author_id</th>\n",
              "      <th>possibly_sensitive</th>\n",
              "      <th>lang</th>\n",
              "      <th>created_at</th>\n",
              "      <th>...</th>\n",
              "      <th>reply_settings</th>\n",
              "      <th>id</th>\n",
              "      <th>author</th>\n",
              "      <th>__twarc</th>\n",
              "      <th>context_annotations</th>\n",
              "      <th>in_reply_to_user_id</th>\n",
              "      <th>in_reply_to_user</th>\n",
              "      <th>attachments</th>\n",
              "      <th>geo</th>\n",
              "      <th>withheld</th>\n",
              "    </tr>\n",
              "  </thead>\n",
              "  <tbody>\n",
              "    <tr>\n",
              "      <th>0</th>\n",
              "      <td>{'retweet_count': 14, 'reply_count': 0, 'like_...</td>\n",
              "      <td>{'mentions': [{'start': 3, 'end': 17, 'usernam...</td>\n",
              "      <td>['1640956939310886913']</td>\n",
              "      <td>[{'type': 'retweeted', 'id': '1640812385937117...</td>\n",
              "      <td>1640956939310886912</td>\n",
              "      <td>RT @VahagnAvedian: With the pace the \"eco frie...</td>\n",
              "      <td>1.091542e+18</td>\n",
              "      <td>False</td>\n",
              "      <td>en</td>\n",
              "      <td>2023-03-29 05:59:56+00:00</td>\n",
              "      <td>...</td>\n",
              "      <td>everyone</td>\n",
              "      <td>1640956939310886912</td>\n",
              "      <td>{'id': '1091541632212586497', 'name': 'Armine'...</td>\n",
              "      <td>{'url': 'https://api.twitter.com/2/tweets/sear...</td>\n",
              "      <td>NaN</td>\n",
              "      <td>NaN</td>\n",
              "      <td>NaN</td>\n",
              "      <td>NaN</td>\n",
              "      <td>NaN</td>\n",
              "      <td>NaN</td>\n",
              "    </tr>\n",
              "    <tr>\n",
              "      <th>1</th>\n",
              "      <td>{'retweet_count': 0, 'reply_count': 1, 'like_c...</td>\n",
              "      <td>{'mentions': [{'start': 0, 'end': 16, 'usernam...</td>\n",
              "      <td>['1640956934642896896']</td>\n",
              "      <td>[{'type': 'replied_to', 'id': '164095109079042...</td>\n",
              "      <td>1640814843073646592</td>\n",
              "      <td>@peacelover2017i @BabakTaghvaee1 Iran Russia a...</td>\n",
              "      <td>1.023852e+18</td>\n",
              "      <td>False</td>\n",
              "      <td>en</td>\n",
              "      <td>2023-03-29 05:59:55+00:00</td>\n",
              "      <td>...</td>\n",
              "      <td>everyone</td>\n",
              "      <td>1640956934642896896</td>\n",
              "      <td>{'id': '1023851806592364544', 'name': 'ghazi',...</td>\n",
              "      <td>{'url': 'https://api.twitter.com/2/tweets/sear...</td>\n",
              "      <td>[{'domain': {'id': '47', 'name': 'Brand', 'des...</td>\n",
              "      <td>1.520049e+18</td>\n",
              "      <td>{'id': '1520048674684178432', 'name': 'peace l...</td>\n",
              "      <td>NaN</td>\n",
              "      <td>NaN</td>\n",
              "      <td>NaN</td>\n",
              "    </tr>\n",
              "    <tr>\n",
              "      <th>2</th>\n",
              "      <td>{'retweet_count': 14, 'reply_count': 0, 'like_...</td>\n",
              "      <td>{'mentions': [{'start': 3, 'end': 19, 'usernam...</td>\n",
              "      <td>['1640956928988938240']</td>\n",
              "      <td>[{'type': 'retweeted', 'id': '1640629789034786...</td>\n",
              "      <td>1640956928988938240</td>\n",
              "      <td>RT @REZAphotography: Profiting from the war: K...</td>\n",
              "      <td>4.858658e+07</td>\n",
              "      <td>False</td>\n",
              "      <td>en</td>\n",
              "      <td>2023-03-29 05:59:54+00:00</td>\n",
              "      <td>...</td>\n",
              "      <td>everyone</td>\n",
              "      <td>1640956928988938240</td>\n",
              "      <td>{'id': '48586580', 'name': 'Denis Richtmann ℹ ...</td>\n",
              "      <td>{'url': 'https://api.twitter.com/2/tweets/sear...</td>\n",
              "      <td>NaN</td>\n",
              "      <td>NaN</td>\n",
              "      <td>NaN</td>\n",
              "      <td>NaN</td>\n",
              "      <td>NaN</td>\n",
              "      <td>NaN</td>\n",
              "    </tr>\n",
              "  </tbody>\n",
              "</table>\n",
              "<p>3 rows × 21 columns</p>\n",
              "</div>"
            ],
            "text/plain": [
              "                                      public_metrics  \\\n",
              "0  {'retweet_count': 14, 'reply_count': 0, 'like_...   \n",
              "1  {'retweet_count': 0, 'reply_count': 1, 'like_c...   \n",
              "2  {'retweet_count': 14, 'reply_count': 0, 'like_...   \n",
              "\n",
              "                                            entities   edit_history_tweet_ids  \\\n",
              "0  {'mentions': [{'start': 3, 'end': 17, 'usernam...  ['1640956939310886913']   \n",
              "1  {'mentions': [{'start': 0, 'end': 16, 'usernam...  ['1640956934642896896']   \n",
              "2  {'mentions': [{'start': 3, 'end': 19, 'usernam...  ['1640956928988938240']   \n",
              "\n",
              "                                   referenced_tweets      conversation_id  \\\n",
              "0  [{'type': 'retweeted', 'id': '1640812385937117...  1640956939310886912   \n",
              "1  [{'type': 'replied_to', 'id': '164095109079042...  1640814843073646592   \n",
              "2  [{'type': 'retweeted', 'id': '1640629789034786...  1640956928988938240   \n",
              "\n",
              "                                                text     author_id  \\\n",
              "0  RT @VahagnAvedian: With the pace the \"eco frie...  1.091542e+18   \n",
              "1  @peacelover2017i @BabakTaghvaee1 Iran Russia a...  1.023852e+18   \n",
              "2  RT @REZAphotography: Profiting from the war: K...  4.858658e+07   \n",
              "\n",
              "  possibly_sensitive lang                 created_at  ... reply_settings  \\\n",
              "0              False   en  2023-03-29 05:59:56+00:00  ...       everyone   \n",
              "1              False   en  2023-03-29 05:59:55+00:00  ...       everyone   \n",
              "2              False   en  2023-03-29 05:59:54+00:00  ...       everyone   \n",
              "\n",
              "                    id                                             author  \\\n",
              "0  1640956939310886912  {'id': '1091541632212586497', 'name': 'Armine'...   \n",
              "1  1640956934642896896  {'id': '1023851806592364544', 'name': 'ghazi',...   \n",
              "2  1640956928988938240  {'id': '48586580', 'name': 'Denis Richtmann ℹ ...   \n",
              "\n",
              "                                             __twarc  \\\n",
              "0  {'url': 'https://api.twitter.com/2/tweets/sear...   \n",
              "1  {'url': 'https://api.twitter.com/2/tweets/sear...   \n",
              "2  {'url': 'https://api.twitter.com/2/tweets/sear...   \n",
              "\n",
              "                                 context_annotations in_reply_to_user_id  \\\n",
              "0                                                NaN                 NaN   \n",
              "1  [{'domain': {'id': '47', 'name': 'Brand', 'des...        1.520049e+18   \n",
              "2                                                NaN                 NaN   \n",
              "\n",
              "                                    in_reply_to_user attachments  geo withheld  \n",
              "0                                                NaN         NaN  NaN      NaN  \n",
              "1  {'id': '1520048674684178432', 'name': 'peace l...         NaN  NaN      NaN  \n",
              "2                                                NaN         NaN  NaN      NaN  \n",
              "\n",
              "[3 rows x 21 columns]"
            ]
          },
          "execution_count": 6,
          "metadata": {},
          "output_type": "execute_result"
        }
      ],
      "source": [
        "data.head(3)"
      ]
    },
    {
      "cell_type": "code",
      "execution_count": null,
      "id": "5b80471a",
      "metadata": {
        "id": "5b80471a",
        "outputId": "bc731dd9-2bcf-4d5d-966b-458872105ceb"
      },
      "outputs": [
        {
          "data": {
            "text/plain": [
              "'RT @CaliberEnglish: 🇦🇿🇮🇱 Today, we are going to witness a historic moment: an embassy of #Azerbaijan will open in #Israel #CaliberAz https:…'"
            ]
          },
          "execution_count": 7,
          "metadata": {},
          "output_type": "execute_result"
        }
      ],
      "source": [
        "data['text'][33]"
      ]
    },
    {
      "cell_type": "markdown",
      "id": "178bf638",
      "metadata": {
        "id": "178bf638"
      },
      "source": [
        "# Preprocessing"
      ]
    },
    {
      "cell_type": "code",
      "execution_count": null,
      "id": "50e4f06c",
      "metadata": {
        "id": "50e4f06c"
      },
      "outputs": [],
      "source": [
        "df = data.copy()"
      ]
    },
    {
      "cell_type": "code",
      "execution_count": null,
      "id": "fd7ed493",
      "metadata": {
        "id": "fd7ed493"
      },
      "outputs": [],
      "source": [
        "# Remove URLs, user mentions, non-alphanumeric characters and hashtags from the tweets\n",
        "df['text'] = df['text'].apply(lambda x: re.sub(r'http\\S+', '', str(x))) # remove URLs\n",
        "df['text'] = df['text'].apply(lambda x: re.sub(r'@\\S+', '', str(x))) # remove user mentions\n",
        "df['text'] = df['text'].apply(lambda x: re.sub(r'[^a-zA-Z0-9\\s]', '', str(x))) # remove non-alphanumeric characters\n",
        "df['text'] = df['text'].apply(lambda x: re.sub(r'#\\S+', '', str(x))) # remove hashtags"
      ]
    },
    {
      "cell_type": "code",
      "execution_count": null,
      "id": "4d5f9ea9",
      "metadata": {
        "id": "4d5f9ea9",
        "outputId": "b75717c4-b83e-4b02-d250-97e57f2f692a"
      },
      "outputs": [
        {
          "data": {
            "text/plain": [
              "'RT   Today we are going to witness a historic moment an embassy of Azerbaijan will open in Israel CaliberAz '"
            ]
          },
          "execution_count": 10,
          "metadata": {},
          "output_type": "execute_result"
        }
      ],
      "source": [
        "df['text'][33]"
      ]
    },
    {
      "cell_type": "code",
      "execution_count": null,
      "id": "12b23bc6",
      "metadata": {
        "id": "12b23bc6"
      },
      "outputs": [],
      "source": [
        "# Remove punctuation and convert text to lowercase\n",
        "df['text'] = df['text'].apply(lambda x: re.sub('[^\\w\\s]', '', x))\n",
        "df['text'] = df['text'].apply(lambda x: x.lower())"
      ]
    },
    {
      "cell_type": "code",
      "execution_count": null,
      "id": "adeccd39",
      "metadata": {
        "scrolled": true,
        "id": "adeccd39",
        "outputId": "67171fdf-778b-427d-f68c-0c83a80e0352"
      },
      "outputs": [
        {
          "data": {
            "text/plain": [
              "'rt   today we are going to witness a historic moment an embassy of azerbaijan will open in israel caliberaz '"
            ]
          },
          "execution_count": 12,
          "metadata": {},
          "output_type": "execute_result"
        }
      ],
      "source": [
        "df['text'][33]"
      ]
    },
    {
      "cell_type": "markdown",
      "id": "96d68ba6",
      "metadata": {
        "id": "96d68ba6"
      },
      "source": [
        "The code below removes stop words from the text. Stop words are commonly used words in a language (such as \"a\", \"an\", \"the\", \"is\", \"of\", etc.) that are generally considered to be meaningless and can be safely excluded from the text analysis process. The NLTK library provides a set of predefined stop words for English language, which can be accessed using stopwords.words('english')."
      ]
    },
    {
      "cell_type": "code",
      "execution_count": null,
      "id": "fcb96451",
      "metadata": {
        "id": "fcb96451"
      },
      "outputs": [],
      "source": [
        "# Remove stop words\n",
        "stop_words = set(stopwords.words('english'))\n",
        "df['text'] = df['text'].apply(lambda x: ' '.join([word for word in x.split() if word not in stop_words]))"
      ]
    },
    {
      "cell_type": "code",
      "execution_count": null,
      "id": "bfe89694",
      "metadata": {
        "id": "bfe89694",
        "outputId": "4f3962a7-da81-4528-f05b-0e842f3eebd0"
      },
      "outputs": [
        {
          "data": {
            "text/plain": [
              "'rt today going witness historic moment embassy azerbaijan open israel caliberaz'"
            ]
          },
          "execution_count": 14,
          "metadata": {},
          "output_type": "execute_result"
        }
      ],
      "source": [
        "df['text'][33]"
      ]
    },
    {
      "cell_type": "code",
      "execution_count": null,
      "id": "2d5b7c38",
      "metadata": {
        "id": "2d5b7c38"
      },
      "outputs": [],
      "source": [
        "# Remove any remaining white space\n",
        "df['text'] = df['text'].apply(lambda x: x.strip())"
      ]
    },
    {
      "cell_type": "code",
      "execution_count": null,
      "id": "2bd73d7c",
      "metadata": {
        "id": "2bd73d7c",
        "outputId": "5e26ff02-1e8d-4179-b172-18559a0e6014"
      },
      "outputs": [
        {
          "data": {
            "text/plain": [
              "'rt today going witness historic moment embassy azerbaijan open israel caliberaz'"
            ]
          },
          "execution_count": 16,
          "metadata": {},
          "output_type": "execute_result"
        }
      ],
      "source": [
        "df['text'][33]"
      ]
    },
    {
      "cell_type": "code",
      "execution_count": null,
      "id": "e535445e",
      "metadata": {
        "id": "e535445e"
      },
      "outputs": [],
      "source": [
        "# Tokenize the text\n",
        "df.insert(loc=6, column='text_tokens', value=df['text'].apply(lambda x: word_tokenize(x)))"
      ]
    },
    {
      "cell_type": "code",
      "execution_count": null,
      "id": "1c403ca0",
      "metadata": {
        "id": "1c403ca0",
        "outputId": "112b75de-e43c-4685-ef7b-410dadd18f85"
      },
      "outputs": [
        {
          "data": {
            "text/plain": [
              "('rt today going witness historic moment embassy azerbaijan open israel caliberaz',\n",
              " ['rt',\n",
              "  'today',\n",
              "  'going',\n",
              "  'witness',\n",
              "  'historic',\n",
              "  'moment',\n",
              "  'embassy',\n",
              "  'azerbaijan',\n",
              "  'open',\n",
              "  'israel',\n",
              "  'caliberaz'])"
            ]
          },
          "execution_count": 18,
          "metadata": {},
          "output_type": "execute_result"
        }
      ],
      "source": [
        "df['text'][33], df['text_tokens'][33]"
      ]
    },
    {
      "cell_type": "code",
      "execution_count": null,
      "id": "55065800",
      "metadata": {
        "id": "55065800",
        "outputId": "afbd5717-833c-4eef-f73d-02b75b271caa"
      },
      "outputs": [
        {
          "data": {
            "text/html": [
              "<div>\n",
              "<style scoped>\n",
              "    .dataframe tbody tr th:only-of-type {\n",
              "        vertical-align: middle;\n",
              "    }\n",
              "\n",
              "    .dataframe tbody tr th {\n",
              "        vertical-align: top;\n",
              "    }\n",
              "\n",
              "    .dataframe thead th {\n",
              "        text-align: right;\n",
              "    }\n",
              "</style>\n",
              "<table border=\"1\" class=\"dataframe\">\n",
              "  <thead>\n",
              "    <tr style=\"text-align: right;\">\n",
              "      <th></th>\n",
              "      <th>public_metrics</th>\n",
              "      <th>entities</th>\n",
              "      <th>edit_history_tweet_ids</th>\n",
              "      <th>referenced_tweets</th>\n",
              "      <th>conversation_id</th>\n",
              "      <th>text</th>\n",
              "      <th>text_tokens</th>\n",
              "      <th>author_id</th>\n",
              "      <th>possibly_sensitive</th>\n",
              "      <th>lang</th>\n",
              "      <th>...</th>\n",
              "      <th>reply_settings</th>\n",
              "      <th>id</th>\n",
              "      <th>author</th>\n",
              "      <th>__twarc</th>\n",
              "      <th>context_annotations</th>\n",
              "      <th>in_reply_to_user_id</th>\n",
              "      <th>in_reply_to_user</th>\n",
              "      <th>attachments</th>\n",
              "      <th>geo</th>\n",
              "      <th>withheld</th>\n",
              "    </tr>\n",
              "  </thead>\n",
              "  <tbody>\n",
              "    <tr>\n",
              "      <th>0</th>\n",
              "      <td>{'retweet_count': 14, 'reply_count': 0, 'like_...</td>\n",
              "      <td>{'mentions': [{'start': 3, 'end': 17, 'usernam...</td>\n",
              "      <td>['1640956939310886913']</td>\n",
              "      <td>[{'type': 'retweeted', 'id': '1640812385937117...</td>\n",
              "      <td>1640956939310886912</td>\n",
              "      <td>rt pace eco friendly regime baku building airp...</td>\n",
              "      <td>[rt, pace, eco, friendly, regime, baku, buildi...</td>\n",
              "      <td>1.091542e+18</td>\n",
              "      <td>False</td>\n",
              "      <td>en</td>\n",
              "      <td>...</td>\n",
              "      <td>everyone</td>\n",
              "      <td>1640956939310886912</td>\n",
              "      <td>{'id': '1091541632212586497', 'name': 'Armine'...</td>\n",
              "      <td>{'url': 'https://api.twitter.com/2/tweets/sear...</td>\n",
              "      <td>NaN</td>\n",
              "      <td>NaN</td>\n",
              "      <td>NaN</td>\n",
              "      <td>NaN</td>\n",
              "      <td>NaN</td>\n",
              "      <td>NaN</td>\n",
              "    </tr>\n",
              "    <tr>\n",
              "      <th>1</th>\n",
              "      <td>{'retweet_count': 0, 'reply_count': 1, 'like_c...</td>\n",
              "      <td>{'mentions': [{'start': 0, 'end': 16, 'usernam...</td>\n",
              "      <td>['1640956934642896896']</td>\n",
              "      <td>[{'type': 'replied_to', 'id': '164095109079042...</td>\n",
              "      <td>1640814843073646592</td>\n",
              "      <td>iran russia sent weapons armenia 56 inch chast...</td>\n",
              "      <td>[iran, russia, sent, weapons, armenia, 56, inc...</td>\n",
              "      <td>1.023852e+18</td>\n",
              "      <td>False</td>\n",
              "      <td>en</td>\n",
              "      <td>...</td>\n",
              "      <td>everyone</td>\n",
              "      <td>1640956934642896896</td>\n",
              "      <td>{'id': '1023851806592364544', 'name': 'ghazi',...</td>\n",
              "      <td>{'url': 'https://api.twitter.com/2/tweets/sear...</td>\n",
              "      <td>[{'domain': {'id': '47', 'name': 'Brand', 'des...</td>\n",
              "      <td>1.520049e+18</td>\n",
              "      <td>{'id': '1520048674684178432', 'name': 'peace l...</td>\n",
              "      <td>NaN</td>\n",
              "      <td>NaN</td>\n",
              "      <td>NaN</td>\n",
              "    </tr>\n",
              "    <tr>\n",
              "      <th>2</th>\n",
              "      <td>{'retweet_count': 14, 'reply_count': 0, 'like_...</td>\n",
              "      <td>{'mentions': [{'start': 3, 'end': 19, 'usernam...</td>\n",
              "      <td>['1640956928988938240']</td>\n",
              "      <td>[{'type': 'retweeted', 'id': '1640629789034786...</td>\n",
              "      <td>1640956928988938240</td>\n",
              "      <td>rt profiting war kremlin bypasses eu us embarg...</td>\n",
              "      <td>[rt, profiting, war, kremlin, bypasses, eu, us...</td>\n",
              "      <td>4.858658e+07</td>\n",
              "      <td>False</td>\n",
              "      <td>en</td>\n",
              "      <td>...</td>\n",
              "      <td>everyone</td>\n",
              "      <td>1640956928988938240</td>\n",
              "      <td>{'id': '48586580', 'name': 'Denis Richtmann ℹ ...</td>\n",
              "      <td>{'url': 'https://api.twitter.com/2/tweets/sear...</td>\n",
              "      <td>NaN</td>\n",
              "      <td>NaN</td>\n",
              "      <td>NaN</td>\n",
              "      <td>NaN</td>\n",
              "      <td>NaN</td>\n",
              "      <td>NaN</td>\n",
              "    </tr>\n",
              "  </tbody>\n",
              "</table>\n",
              "<p>3 rows × 22 columns</p>\n",
              "</div>"
            ],
            "text/plain": [
              "                                      public_metrics  \\\n",
              "0  {'retweet_count': 14, 'reply_count': 0, 'like_...   \n",
              "1  {'retweet_count': 0, 'reply_count': 1, 'like_c...   \n",
              "2  {'retweet_count': 14, 'reply_count': 0, 'like_...   \n",
              "\n",
              "                                            entities   edit_history_tweet_ids  \\\n",
              "0  {'mentions': [{'start': 3, 'end': 17, 'usernam...  ['1640956939310886913']   \n",
              "1  {'mentions': [{'start': 0, 'end': 16, 'usernam...  ['1640956934642896896']   \n",
              "2  {'mentions': [{'start': 3, 'end': 19, 'usernam...  ['1640956928988938240']   \n",
              "\n",
              "                                   referenced_tweets      conversation_id  \\\n",
              "0  [{'type': 'retweeted', 'id': '1640812385937117...  1640956939310886912   \n",
              "1  [{'type': 'replied_to', 'id': '164095109079042...  1640814843073646592   \n",
              "2  [{'type': 'retweeted', 'id': '1640629789034786...  1640956928988938240   \n",
              "\n",
              "                                                text  \\\n",
              "0  rt pace eco friendly regime baku building airp...   \n",
              "1  iran russia sent weapons armenia 56 inch chast...   \n",
              "2  rt profiting war kremlin bypasses eu us embarg...   \n",
              "\n",
              "                                         text_tokens     author_id  \\\n",
              "0  [rt, pace, eco, friendly, regime, baku, buildi...  1.091542e+18   \n",
              "1  [iran, russia, sent, weapons, armenia, 56, inc...  1.023852e+18   \n",
              "2  [rt, profiting, war, kremlin, bypasses, eu, us...  4.858658e+07   \n",
              "\n",
              "  possibly_sensitive lang  ... reply_settings                   id  \\\n",
              "0              False   en  ...       everyone  1640956939310886912   \n",
              "1              False   en  ...       everyone  1640956934642896896   \n",
              "2              False   en  ...       everyone  1640956928988938240   \n",
              "\n",
              "                                              author  \\\n",
              "0  {'id': '1091541632212586497', 'name': 'Armine'...   \n",
              "1  {'id': '1023851806592364544', 'name': 'ghazi',...   \n",
              "2  {'id': '48586580', 'name': 'Denis Richtmann ℹ ...   \n",
              "\n",
              "                                             __twarc  \\\n",
              "0  {'url': 'https://api.twitter.com/2/tweets/sear...   \n",
              "1  {'url': 'https://api.twitter.com/2/tweets/sear...   \n",
              "2  {'url': 'https://api.twitter.com/2/tweets/sear...   \n",
              "\n",
              "                                 context_annotations in_reply_to_user_id  \\\n",
              "0                                                NaN                 NaN   \n",
              "1  [{'domain': {'id': '47', 'name': 'Brand', 'des...        1.520049e+18   \n",
              "2                                                NaN                 NaN   \n",
              "\n",
              "                                    in_reply_to_user  attachments  geo  \\\n",
              "0                                                NaN          NaN  NaN   \n",
              "1  {'id': '1520048674684178432', 'name': 'peace l...          NaN  NaN   \n",
              "2                                                NaN          NaN  NaN   \n",
              "\n",
              "  withheld  \n",
              "0      NaN  \n",
              "1      NaN  \n",
              "2      NaN  \n",
              "\n",
              "[3 rows x 22 columns]"
            ]
          },
          "execution_count": 19,
          "metadata": {},
          "output_type": "execute_result"
        }
      ],
      "source": [
        "df.head(3)"
      ]
    },
    {
      "cell_type": "code",
      "execution_count": null,
      "id": "77eb4eaf",
      "metadata": {
        "id": "77eb4eaf"
      },
      "outputs": [],
      "source": [
        "# Save the preprocessed data to a new file\n",
        "output_filename = 'preprocessed_twitter_data'\n",
        "df.to_csv(os.path.join(data_path, f'{output_filename}.csv'), index=False)"
      ]
    },
    {
      "cell_type": "markdown",
      "id": "7034dd46",
      "metadata": {
        "id": "7034dd46"
      },
      "source": [
        "### Test"
      ]
    },
    {
      "cell_type": "code",
      "execution_count": null,
      "id": "5f38ebcd",
      "metadata": {
        "id": "5f38ebcd"
      },
      "outputs": [],
      "source": [
        "twitter_data_path_processed = glob(os.path.join(data_path, 'preprocessed_twitter_data.csv'))[0]"
      ]
    },
    {
      "cell_type": "code",
      "execution_count": null,
      "id": "d851e941",
      "metadata": {
        "id": "d851e941",
        "outputId": "4fca15d8-544a-47db-f56f-b12e4cc714ab"
      },
      "outputs": [
        {
          "data": {
            "text/plain": [
              "'../Data/preprocessed_twitter_data.csv'"
            ]
          },
          "execution_count": 22,
          "metadata": {},
          "output_type": "execute_result"
        }
      ],
      "source": [
        "twitter_data_path_processed"
      ]
    },
    {
      "cell_type": "code",
      "execution_count": null,
      "id": "c2fe73ff",
      "metadata": {
        "id": "c2fe73ff",
        "outputId": "2cac389e-0329-4336-83fe-d9b0e996a03d"
      },
      "outputs": [
        {
          "name": "stderr",
          "output_type": "stream",
          "text": [
            "/usr/lib/python3/dist-packages/IPython/core/interactiveshell.py:3457: DtypeWarning: Columns (4,8,13) have mixed types.Specify dtype option on import or set low_memory=False.\n",
            "  exec(code_obj, self.user_global_ns, self.user_ns)\n"
          ]
        }
      ],
      "source": [
        "# Load the Twitter data\n",
        "data_processed = pd.read_csv(twitter_data_path_processed)"
      ]
    },
    {
      "cell_type": "code",
      "execution_count": null,
      "id": "594f17f9",
      "metadata": {
        "id": "594f17f9",
        "outputId": "d5642a8a-73a0-42f2-ce7b-63e9f7463e27"
      },
      "outputs": [
        {
          "name": "stdout",
          "output_type": "stream",
          "text": [
            "<class 'pandas.core.frame.DataFrame'>\n",
            "RangeIndex: 130694 entries, 0 to 130693\n",
            "Data columns (total 22 columns):\n",
            " #   Column                  Non-Null Count   Dtype  \n",
            "---  ------                  --------------   -----  \n",
            " 0   public_metrics          130693 non-null  object \n",
            " 1   entities                130171 non-null  object \n",
            " 2   edit_history_tweet_ids  130693 non-null  object \n",
            " 3   referenced_tweets       108749 non-null  object \n",
            " 4   conversation_id         130693 non-null  object \n",
            " 5   text                    129554 non-null  object \n",
            " 6   text_tokens             130694 non-null  object \n",
            " 7   author_id               130692 non-null  float64\n",
            " 8   possibly_sensitive      130692 non-null  object \n",
            " 9   lang                    130692 non-null  object \n",
            " 10  created_at              130691 non-null  object \n",
            " 11  edit_controls           130691 non-null  object \n",
            " 12  reply_settings          130691 non-null  object \n",
            " 13  id                      130692 non-null  object \n",
            " 14  author                  130691 non-null  object \n",
            " 15  __twarc                 130691 non-null  object \n",
            " 16  context_annotations     68329 non-null   object \n",
            " 17  in_reply_to_user_id     19324 non-null   float64\n",
            " 18  in_reply_to_user        19324 non-null   object \n",
            " 19  attachments             17169 non-null   object \n",
            " 20  geo                     485 non-null     object \n",
            " 21  withheld                165 non-null     object \n",
            "dtypes: float64(2), object(20)\n",
            "memory usage: 21.9+ MB\n"
          ]
        }
      ],
      "source": [
        "data_processed.info()"
      ]
    },
    {
      "cell_type": "code",
      "execution_count": null,
      "id": "698d1cae",
      "metadata": {
        "id": "698d1cae",
        "outputId": "114fd04f-1a4a-4732-f66b-ba1d9f25e458"
      },
      "outputs": [
        {
          "data": {
            "text/html": [
              "<div>\n",
              "<style scoped>\n",
              "    .dataframe tbody tr th:only-of-type {\n",
              "        vertical-align: middle;\n",
              "    }\n",
              "\n",
              "    .dataframe tbody tr th {\n",
              "        vertical-align: top;\n",
              "    }\n",
              "\n",
              "    .dataframe thead th {\n",
              "        text-align: right;\n",
              "    }\n",
              "</style>\n",
              "<table border=\"1\" class=\"dataframe\">\n",
              "  <thead>\n",
              "    <tr style=\"text-align: right;\">\n",
              "      <th></th>\n",
              "      <th>public_metrics</th>\n",
              "      <th>entities</th>\n",
              "      <th>edit_history_tweet_ids</th>\n",
              "      <th>referenced_tweets</th>\n",
              "      <th>conversation_id</th>\n",
              "      <th>text</th>\n",
              "      <th>text_tokens</th>\n",
              "      <th>author_id</th>\n",
              "      <th>possibly_sensitive</th>\n",
              "      <th>lang</th>\n",
              "      <th>...</th>\n",
              "      <th>reply_settings</th>\n",
              "      <th>id</th>\n",
              "      <th>author</th>\n",
              "      <th>__twarc</th>\n",
              "      <th>context_annotations</th>\n",
              "      <th>in_reply_to_user_id</th>\n",
              "      <th>in_reply_to_user</th>\n",
              "      <th>attachments</th>\n",
              "      <th>geo</th>\n",
              "      <th>withheld</th>\n",
              "    </tr>\n",
              "  </thead>\n",
              "  <tbody>\n",
              "    <tr>\n",
              "      <th>0</th>\n",
              "      <td>{'retweet_count': 14, 'reply_count': 0, 'like_...</td>\n",
              "      <td>{'mentions': [{'start': 3, 'end': 17, 'usernam...</td>\n",
              "      <td>['1640956939310886913']</td>\n",
              "      <td>[{'type': 'retweeted', 'id': '1640812385937117...</td>\n",
              "      <td>1640956939310886912</td>\n",
              "      <td>rt pace eco friendly regime baku building airp...</td>\n",
              "      <td>['rt', 'pace', 'eco', 'friendly', 'regime', 'b...</td>\n",
              "      <td>1.091542e+18</td>\n",
              "      <td>False</td>\n",
              "      <td>en</td>\n",
              "      <td>...</td>\n",
              "      <td>everyone</td>\n",
              "      <td>1640956939310886912</td>\n",
              "      <td>{'id': '1091541632212586497', 'name': 'Armine'...</td>\n",
              "      <td>{'url': 'https://api.twitter.com/2/tweets/sear...</td>\n",
              "      <td>NaN</td>\n",
              "      <td>NaN</td>\n",
              "      <td>NaN</td>\n",
              "      <td>NaN</td>\n",
              "      <td>NaN</td>\n",
              "      <td>NaN</td>\n",
              "    </tr>\n",
              "    <tr>\n",
              "      <th>1</th>\n",
              "      <td>{'retweet_count': 0, 'reply_count': 1, 'like_c...</td>\n",
              "      <td>{'mentions': [{'start': 0, 'end': 16, 'usernam...</td>\n",
              "      <td>['1640956934642896896']</td>\n",
              "      <td>[{'type': 'replied_to', 'id': '164095109079042...</td>\n",
              "      <td>1640814843073646592</td>\n",
              "      <td>iran russia sent weapons armenia 56 inch chast...</td>\n",
              "      <td>['iran', 'russia', 'sent', 'weapons', 'armenia...</td>\n",
              "      <td>1.023852e+18</td>\n",
              "      <td>False</td>\n",
              "      <td>en</td>\n",
              "      <td>...</td>\n",
              "      <td>everyone</td>\n",
              "      <td>1640956934642896896</td>\n",
              "      <td>{'id': '1023851806592364544', 'name': 'ghazi',...</td>\n",
              "      <td>{'url': 'https://api.twitter.com/2/tweets/sear...</td>\n",
              "      <td>[{'domain': {'id': '47', 'name': 'Brand', 'des...</td>\n",
              "      <td>1.520049e+18</td>\n",
              "      <td>{'id': '1520048674684178432', 'name': 'peace l...</td>\n",
              "      <td>NaN</td>\n",
              "      <td>NaN</td>\n",
              "      <td>NaN</td>\n",
              "    </tr>\n",
              "    <tr>\n",
              "      <th>2</th>\n",
              "      <td>{'retweet_count': 14, 'reply_count': 0, 'like_...</td>\n",
              "      <td>{'mentions': [{'start': 3, 'end': 19, 'usernam...</td>\n",
              "      <td>['1640956928988938240']</td>\n",
              "      <td>[{'type': 'retweeted', 'id': '1640629789034786...</td>\n",
              "      <td>1640956928988938240</td>\n",
              "      <td>rt profiting war kremlin bypasses eu us embarg...</td>\n",
              "      <td>['rt', 'profiting', 'war', 'kremlin', 'bypasse...</td>\n",
              "      <td>4.858658e+07</td>\n",
              "      <td>False</td>\n",
              "      <td>en</td>\n",
              "      <td>...</td>\n",
              "      <td>everyone</td>\n",
              "      <td>1640956928988938240</td>\n",
              "      <td>{'id': '48586580', 'name': 'Denis Richtmann ℹ ...</td>\n",
              "      <td>{'url': 'https://api.twitter.com/2/tweets/sear...</td>\n",
              "      <td>NaN</td>\n",
              "      <td>NaN</td>\n",
              "      <td>NaN</td>\n",
              "      <td>NaN</td>\n",
              "      <td>NaN</td>\n",
              "      <td>NaN</td>\n",
              "    </tr>\n",
              "  </tbody>\n",
              "</table>\n",
              "<p>3 rows × 22 columns</p>\n",
              "</div>"
            ],
            "text/plain": [
              "                                      public_metrics  \\\n",
              "0  {'retweet_count': 14, 'reply_count': 0, 'like_...   \n",
              "1  {'retweet_count': 0, 'reply_count': 1, 'like_c...   \n",
              "2  {'retweet_count': 14, 'reply_count': 0, 'like_...   \n",
              "\n",
              "                                            entities   edit_history_tweet_ids  \\\n",
              "0  {'mentions': [{'start': 3, 'end': 17, 'usernam...  ['1640956939310886913']   \n",
              "1  {'mentions': [{'start': 0, 'end': 16, 'usernam...  ['1640956934642896896']   \n",
              "2  {'mentions': [{'start': 3, 'end': 19, 'usernam...  ['1640956928988938240']   \n",
              "\n",
              "                                   referenced_tweets      conversation_id  \\\n",
              "0  [{'type': 'retweeted', 'id': '1640812385937117...  1640956939310886912   \n",
              "1  [{'type': 'replied_to', 'id': '164095109079042...  1640814843073646592   \n",
              "2  [{'type': 'retweeted', 'id': '1640629789034786...  1640956928988938240   \n",
              "\n",
              "                                                text  \\\n",
              "0  rt pace eco friendly regime baku building airp...   \n",
              "1  iran russia sent weapons armenia 56 inch chast...   \n",
              "2  rt profiting war kremlin bypasses eu us embarg...   \n",
              "\n",
              "                                         text_tokens     author_id  \\\n",
              "0  ['rt', 'pace', 'eco', 'friendly', 'regime', 'b...  1.091542e+18   \n",
              "1  ['iran', 'russia', 'sent', 'weapons', 'armenia...  1.023852e+18   \n",
              "2  ['rt', 'profiting', 'war', 'kremlin', 'bypasse...  4.858658e+07   \n",
              "\n",
              "  possibly_sensitive lang  ... reply_settings                   id  \\\n",
              "0              False   en  ...       everyone  1640956939310886912   \n",
              "1              False   en  ...       everyone  1640956934642896896   \n",
              "2              False   en  ...       everyone  1640956928988938240   \n",
              "\n",
              "                                              author  \\\n",
              "0  {'id': '1091541632212586497', 'name': 'Armine'...   \n",
              "1  {'id': '1023851806592364544', 'name': 'ghazi',...   \n",
              "2  {'id': '48586580', 'name': 'Denis Richtmann ℹ ...   \n",
              "\n",
              "                                             __twarc  \\\n",
              "0  {'url': 'https://api.twitter.com/2/tweets/sear...   \n",
              "1  {'url': 'https://api.twitter.com/2/tweets/sear...   \n",
              "2  {'url': 'https://api.twitter.com/2/tweets/sear...   \n",
              "\n",
              "                                 context_annotations in_reply_to_user_id  \\\n",
              "0                                                NaN                 NaN   \n",
              "1  [{'domain': {'id': '47', 'name': 'Brand', 'des...        1.520049e+18   \n",
              "2                                                NaN                 NaN   \n",
              "\n",
              "                                    in_reply_to_user  attachments  geo  \\\n",
              "0                                                NaN          NaN  NaN   \n",
              "1  {'id': '1520048674684178432', 'name': 'peace l...          NaN  NaN   \n",
              "2                                                NaN          NaN  NaN   \n",
              "\n",
              "  withheld  \n",
              "0      NaN  \n",
              "1      NaN  \n",
              "2      NaN  \n",
              "\n",
              "[3 rows x 22 columns]"
            ]
          },
          "execution_count": 25,
          "metadata": {},
          "output_type": "execute_result"
        }
      ],
      "source": [
        "data_processed.head(3)"
      ]
    },
    {
      "cell_type": "code",
      "execution_count": null,
      "id": "47d28196",
      "metadata": {
        "id": "47d28196"
      },
      "outputs": [],
      "source": []
    }
  ],
  "metadata": {
    "kernelspec": {
      "display_name": "Python 3 (ipykernel)",
      "language": "python",
      "name": "python3"
    },
    "language_info": {
      "codemirror_mode": {
        "name": "ipython",
        "version": 3
      },
      "file_extension": ".py",
      "mimetype": "text/x-python",
      "name": "python",
      "nbconvert_exporter": "python",
      "pygments_lexer": "ipython3",
      "version": "3.10.6"
    },
    "colab": {
      "provenance": []
    }
  },
  "nbformat": 4,
  "nbformat_minor": 5
}